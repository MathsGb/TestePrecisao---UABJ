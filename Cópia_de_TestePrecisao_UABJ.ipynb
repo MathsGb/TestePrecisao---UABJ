{
  "nbformat": 4,
  "nbformat_minor": 0,
  "metadata": {
    "colab": {
      "provenance": [],
      "authorship_tag": "ABX9TyO4VNt0EOmJejNCzDjtZM4k",
      "include_colab_link": true
    },
    "kernelspec": {
      "name": "python3",
      "display_name": "Python 3"
    },
    "language_info": {
      "name": "python"
    }
  },
  "cells": [
    {
      "cell_type": "markdown",
      "metadata": {
        "id": "view-in-github",
        "colab_type": "text"
      },
      "source": [
        "<a href=\"https://colab.research.google.com/github/MathsGb/TestePrecisao---UABJ/blob/main/C%C3%B3pia_de_TestePrecisao_UABJ.ipynb\" target=\"_parent\"><img src=\"https://colab.research.google.com/assets/colab-badge.svg\" alt=\"Open In Colab\"/></a>"
      ]
    },
    {
      "cell_type": "code",
      "execution_count": null,
      "metadata": {
        "colab": {
          "base_uri": "https://localhost:8080/"
        },
        "id": "yYB_FT9kgD0v",
        "outputId": "5fff4050-2351-4510-908b-ec2a5575adec"
      },
      "outputs": [
        {
          "output_type": "stream",
          "name": "stdout",
          "text": [
            "2.220446049250313e-16\n"
          ]
        }
      ],
      "source": [
        "A = 1\n",
        "s = 2\n",
        "\n",
        "while(s > 1):\n",
        "  A = A/2\n",
        "  s = 1 + A\n",
        "\n",
        "print(2 * A)"
      ]
    },
    {
      "cell_type": "markdown",
      "source": [
        "Como pode ser observado a condição do while normalmente não seria alcançada, visto que \"A\" nunca chegaria a \"0\", porém para a máquina essa condição é atingida e confirmada pela número mostrado como resultado que será justamente uma quantificação do quão preciso ele consegue chegar antes de sair da restição imposta."
      ],
      "metadata": {
        "id": "lM8GLvtbhC6v"
      }
    }
  ]
}